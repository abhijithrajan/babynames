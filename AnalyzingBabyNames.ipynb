{
 "cells": [
  {
   "cell_type": "code",
   "execution_count": 1,
   "metadata": {},
   "outputs": [],
   "source": [
    "import pandas as pd\n",
    "import numpy as np\n",
    "import matplotlib.pyplot as plt\n",
    "import glob\n",
    "import sqlite3\n",
    "import gc\n",
    "import os\n",
    "\n",
    "%matplotlib inline"
   ]
  },
  {
   "cell_type": "markdown",
   "metadata": {},
   "source": [
    "# A) Descriptive analysis\n",
    "\n",
    "If the wget command below does not work for any reason, then please manually download the data in zip format from: http://www.ssa.gov/oact/babynames/state/namesbystate.zip\n",
    "\n",
    "Once downloaded, just copy it to your repository directory, and the code below."
   ]
  },
  {
   "cell_type": "code",
   "execution_count": 2,
   "metadata": {
    "scrolled": true
   },
   "outputs": [
    {
     "name": "stdout",
     "output_type": "stream",
     "text": [
      "URL transformed to HTTPS due to an HSTS policy\n",
      "--2018-11-05 10:39:59--  https://www.ssa.gov/oact/babynames/state/namesbystate.zip\n",
      "Resolving www.ssa.gov... 137.200.39.19, 2001:1930:e03::aaaa\n",
      "Connecting to www.ssa.gov|137.200.39.19|:443... connected.\n",
      "WARNING: cannot verify www.ssa.gov's certificate, issued by ‘CN=DigiCert SHA2 Extended Validation Server CA,OU=www.digicert.com,O=DigiCert Inc,C=US’:\n",
      "  Unable to locally verify the issuer's authority.\n",
      "HTTP request sent, awaiting response... 200 OK\n",
      "Length: 21574769 (21M) [application/zip]\n",
      "Saving to: ‘namesbystate.zip’\n",
      "\n",
      "namesbystate.zip    100%[===================>]  20.58M  2.87MB/s    in 7.2s    \n",
      "\n",
      "2018-11-05 10:40:06 (2.87 MB/s) - ‘namesbystate.zip’ saved [21574769/21574769]\n",
      "\n",
      "Now unzipping the file into a folder with the same name\n"
     ]
    }
   ],
   "source": [
    "if not os.path.isfile(\"namesbystate.zip\"):\n",
    "    !wget --no-check-certificate http://www.ssa.gov/oact/babynames/state/namesbystate.zip\n",
    "    print(\"Now unzipping the file into a folder with the same name\")\n",
    "    !unzip -oqd namesbystate namesbystate.zip"
   ]
  },
  {
   "cell_type": "markdown",
   "metadata": {},
   "source": [
    "Creating a namesbystate sqlite3 database, with the intention to store all the files as a single table within the database."
   ]
  },
  {
   "cell_type": "code",
   "execution_count": 3,
   "metadata": {},
   "outputs": [],
   "source": [
    "dbname = \"namesbystate.db\"\n",
    "if not os.path.isfile(dbname): \n",
    "    connex = sqlite3.connect(dbname)  # Opens file if exists, else creates file\n",
    "    cur = connex.cursor()  # This object lets us actually send messages to our DB and receive results\n",
    "    files = glob.glob(\"namesbystate/*TXT\") # Generating a list of files within the namesbystate folder\n",
    "    \n",
    "    for f in files:\n",
    "        # Reading each state file in to a temperory dataframe and appending it to the sqlite3 DB created above\n",
    "        df_tmp = pd.read_csv(f,header=None, names=['State','Gender','Year','Name','Count']) \n",
    "        df_tmp.to_sql(name=\"data\", con=connex, if_exists=\"append\", index=False)\n",
    "        del df_tmp \n",
    "    gc.collect() # freeing up the memory used by the dataframes\n",
    "else:\n",
    "    connex = sqlite3.connect(dbname)  \n",
    "    cur = connex.cursor()  "
   ]
  },
  {
   "cell_type": "markdown",
   "metadata": {},
   "source": [
    "### 1. Please describe the format of the data files. Can you identify any limitations or distortions of the data?\n"
   ]
  },
  {
   "cell_type": "markdown",
   "metadata": {},
   "source": [
    "The zip file contains 52 text files, one for each of the states and the District of Columbia, and a README file describing the contents of the zip file. Each text file contains comma separated values, in the same format i.e. 2-digit state code, sex (M = male or F = female), 4-digit year of birth (starting with 1910), the 2-15 character name, and the number of occurrences of the name. \n",
    "\n",
    "To ensure the privacy, they exclude names with fewer than 5 occurences in a year. This generates a bias whereby individuals with unique names will be excluded from any statistical estimates based on this data."
   ]
  },
  {
   "cell_type": "markdown",
   "metadata": {},
   "source": [
    "### 2. What is the most popular name of all time? (Of either gender)\n",
    "\n",
    "The dataset includes Names and their occurences by year. To estimate the most popular name of all time, the following SQL query is generated to return the names and the sum of the occurences, grouped by the names, ignoring the other information i.e. State, Gender, etc."
   ]
  },
  {
   "cell_type": "code",
   "execution_count": 4,
   "metadata": {},
   "outputs": [
    {
     "data": {
      "text/html": [
       "<div>\n",
       "<style scoped>\n",
       "    .dataframe tbody tr th:only-of-type {\n",
       "        vertical-align: middle;\n",
       "    }\n",
       "\n",
       "    .dataframe tbody tr th {\n",
       "        vertical-align: top;\n",
       "    }\n",
       "\n",
       "    .dataframe thead th {\n",
       "        text-align: right;\n",
       "    }\n",
       "</style>\n",
       "<table border=\"1\" class=\"dataframe\">\n",
       "  <thead>\n",
       "    <tr style=\"text-align: right;\">\n",
       "      <th></th>\n",
       "      <th>Name</th>\n",
       "      <th>sum_count</th>\n",
       "    </tr>\n",
       "  </thead>\n",
       "  <tbody>\n",
       "    <tr>\n",
       "      <th>0</th>\n",
       "      <td>James</td>\n",
       "      <td>5001762</td>\n",
       "    </tr>\n",
       "    <tr>\n",
       "      <th>1</th>\n",
       "      <td>John</td>\n",
       "      <td>4875934</td>\n",
       "    </tr>\n",
       "    <tr>\n",
       "      <th>2</th>\n",
       "      <td>Robert</td>\n",
       "      <td>4743843</td>\n",
       "    </tr>\n",
       "    <tr>\n",
       "      <th>3</th>\n",
       "      <td>Michael</td>\n",
       "      <td>4354622</td>\n",
       "    </tr>\n",
       "    <tr>\n",
       "      <th>4</th>\n",
       "      <td>William</td>\n",
       "      <td>3886371</td>\n",
       "    </tr>\n",
       "  </tbody>\n",
       "</table>\n",
       "</div>"
      ],
      "text/plain": [
       "      Name  sum_count\n",
       "0    James    5001762\n",
       "1     John    4875934\n",
       "2   Robert    4743843\n",
       "3  Michael    4354622\n",
       "4  William    3886371"
      ]
     },
     "execution_count": 4,
     "metadata": {},
     "output_type": "execute_result"
    }
   ],
   "source": [
    "query = \"\"\"\n",
    "SELECT Name, SUM(Count) AS sum_count\n",
    "FROM data\n",
    "GROUP BY Name\n",
    "ORDER BY SUM(Count) DESC;\n",
    "\"\"\"\n",
    "df = pd.read_sql_query(query, con=connex)\n",
    "df.head()"
   ]
  },
  {
   "cell_type": "markdown",
   "metadata": {},
   "source": [
    "The most popular name in the United States from 1910 - 2017 is James. \n",
    "\n",
    "As a side note, Mary at #6 is the most popular Female name, and the only Female name in the top 10 most popular names."
   ]
  },
  {
   "cell_type": "code",
   "execution_count": 5,
   "metadata": {},
   "outputs": [],
   "source": [
    "del df"
   ]
  },
  {
   "cell_type": "markdown",
   "metadata": {},
   "source": [
    "### 3. What is the most gender ambiguous name in 2013? 1945?\n",
    "\n",
    "To compute the gender ambiguity of the names, the following logic is utilized:\n",
    "- break the names database into two datasets (imported into Pandas), by year of interest and gender. \n",
    "- a join of the two DataFrames, where the names in both genders are the same.\n",
    "- groupby the names and take the sum of occurrences, to generate two columns with the sum total of each name by gender.\n",
    "- estimate gender neutrality by calculating the ratio of number of women with a name to the total number of individuals with a name and how far that is from 0.5. "
   ]
  },
  {
   "cell_type": "code",
   "execution_count": 6,
   "metadata": {},
   "outputs": [],
   "source": [
    "# Computing the most gender neutral name in 2013 - \n",
    "df_m = pd.read_sql_query(\"SELECT Name, Count FROM data WHERE Year=? AND Gender=?\", con=connex, params=(2013,'M'))\n",
    "df_f = pd.read_sql_query(\"SELECT Name, Count FROM data WHERE Year=? AND Gender=?\", con=connex, params=(2013,'F'))"
   ]
  },
  {
   "cell_type": "code",
   "execution_count": 7,
   "metadata": {},
   "outputs": [
    {
     "data": {
      "text/html": [
       "<div>\n",
       "<style scoped>\n",
       "    .dataframe tbody tr th:only-of-type {\n",
       "        vertical-align: middle;\n",
       "    }\n",
       "\n",
       "    .dataframe tbody tr th {\n",
       "        vertical-align: top;\n",
       "    }\n",
       "\n",
       "    .dataframe thead th {\n",
       "        text-align: right;\n",
       "    }\n",
       "</style>\n",
       "<table border=\"1\" class=\"dataframe\">\n",
       "  <thead>\n",
       "    <tr style=\"text-align: right;\">\n",
       "      <th></th>\n",
       "      <th>Count_m</th>\n",
       "      <th>Count_f</th>\n",
       "      <th>% dissimilar</th>\n",
       "    </tr>\n",
       "    <tr>\n",
       "      <th>Name</th>\n",
       "      <th></th>\n",
       "      <th></th>\n",
       "      <th></th>\n",
       "    </tr>\n",
       "  </thead>\n",
       "  <tbody>\n",
       "    <tr>\n",
       "      <th>Lake</th>\n",
       "      <td>15</td>\n",
       "      <td>15.0</td>\n",
       "      <td>0.000000</td>\n",
       "    </tr>\n",
       "    <tr>\n",
       "      <th>Legacy</th>\n",
       "      <td>30</td>\n",
       "      <td>30.0</td>\n",
       "      <td>0.000000</td>\n",
       "    </tr>\n",
       "    <tr>\n",
       "      <th>Dakotah</th>\n",
       "      <td>15</td>\n",
       "      <td>15.0</td>\n",
       "      <td>0.000000</td>\n",
       "    </tr>\n",
       "    <tr>\n",
       "      <th>Arlin</th>\n",
       "      <td>5</td>\n",
       "      <td>5.0</td>\n",
       "      <td>0.000000</td>\n",
       "    </tr>\n",
       "    <tr>\n",
       "      <th>Sonam</th>\n",
       "      <td>5</td>\n",
       "      <td>5.0</td>\n",
       "      <td>0.000000</td>\n",
       "    </tr>\n",
       "    <tr>\n",
       "      <th>Devyn</th>\n",
       "      <td>1900</td>\n",
       "      <td>1908.0</td>\n",
       "      <td>0.105042</td>\n",
       "    </tr>\n",
       "  </tbody>\n",
       "</table>\n",
       "</div>"
      ],
      "text/plain": [
       "         Count_m  Count_f  % dissimilar\n",
       "Name                                   \n",
       "Lake          15     15.0      0.000000\n",
       "Legacy        30     30.0      0.000000\n",
       "Dakotah       15     15.0      0.000000\n",
       "Arlin          5      5.0      0.000000\n",
       "Sonam          5      5.0      0.000000\n",
       "Devyn       1900   1908.0      0.105042"
      ]
     },
     "execution_count": 7,
     "metadata": {},
     "output_type": "execute_result"
    }
   ],
   "source": [
    "df_mf = df_m.set_index(\"Name\").join(df_f.set_index(\"Name\"), lsuffix='_m', rsuffix='_f').groupby(\"Name\").sum()\n",
    "df_mf[\"% dissimilar\"] = abs(50 - 100*(df_mf[\"Count_f\"]/(df_mf[\"Count_m\"]+df_mf[\"Count_f\"])))\n",
    "df_mf.sort_values(by='% dissimilar').head(6)"
   ]
  },
  {
   "cell_type": "markdown",
   "metadata": {},
   "source": [
    "In 2013, there were 5 names that were used equally for boys and girls, amongst the 5 however, Legacy was the most popular gender neutral name.  \n",
    "\n",
    "If we were to exclude the names with fewer than 50 counts in either column, then Devyn stands out as being a very popular and yet gender neutral name in 2013."
   ]
  },
  {
   "cell_type": "code",
   "execution_count": 8,
   "metadata": {},
   "outputs": [],
   "source": [
    "# Computing the most gender neutral name in 1945 - \n",
    "df_m = pd.read_sql_query(\"SELECT Name, Count FROM data WHERE Year=? AND Gender=?\", con=connex, params=(1945,'M'))\n",
    "df_f = pd.read_sql_query(\"SELECT Name, Count FROM data WHERE Year=? AND Gender=?\", con=connex, params=(1945,'F'))"
   ]
  },
  {
   "cell_type": "code",
   "execution_count": 9,
   "metadata": {},
   "outputs": [
    {
     "data": {
      "text/html": [
       "<div>\n",
       "<style scoped>\n",
       "    .dataframe tbody tr th:only-of-type {\n",
       "        vertical-align: middle;\n",
       "    }\n",
       "\n",
       "    .dataframe tbody tr th {\n",
       "        vertical-align: top;\n",
       "    }\n",
       "\n",
       "    .dataframe thead th {\n",
       "        text-align: right;\n",
       "    }\n",
       "</style>\n",
       "<table border=\"1\" class=\"dataframe\">\n",
       "  <thead>\n",
       "    <tr style=\"text-align: right;\">\n",
       "      <th></th>\n",
       "      <th>Count_m</th>\n",
       "      <th>Count_f</th>\n",
       "      <th>% dissimilar</th>\n",
       "    </tr>\n",
       "    <tr>\n",
       "      <th>Name</th>\n",
       "      <th></th>\n",
       "      <th></th>\n",
       "      <th></th>\n",
       "    </tr>\n",
       "  </thead>\n",
       "  <tbody>\n",
       "    <tr>\n",
       "      <th>Kit</th>\n",
       "      <td>12</td>\n",
       "      <td>12.0</td>\n",
       "      <td>0.000000</td>\n",
       "    </tr>\n",
       "    <tr>\n",
       "      <th>Kim</th>\n",
       "      <td>588</td>\n",
       "      <td>588.0</td>\n",
       "      <td>0.000000</td>\n",
       "    </tr>\n",
       "    <tr>\n",
       "      <th>Loy</th>\n",
       "      <td>35</td>\n",
       "      <td>35.0</td>\n",
       "      <td>0.000000</td>\n",
       "    </tr>\n",
       "    <tr>\n",
       "      <th>Frankie</th>\n",
       "      <td>12627</td>\n",
       "      <td>12532.0</td>\n",
       "      <td>0.188799</td>\n",
       "    </tr>\n",
       "    <tr>\n",
       "      <th>Cleo</th>\n",
       "      <td>1460</td>\n",
       "      <td>1410.0</td>\n",
       "      <td>0.871080</td>\n",
       "    </tr>\n",
       "  </tbody>\n",
       "</table>\n",
       "</div>"
      ],
      "text/plain": [
       "         Count_m  Count_f  % dissimilar\n",
       "Name                                   \n",
       "Kit           12     12.0      0.000000\n",
       "Kim          588    588.0      0.000000\n",
       "Loy           35     35.0      0.000000\n",
       "Frankie    12627  12532.0      0.188799\n",
       "Cleo        1460   1410.0      0.871080"
      ]
     },
     "execution_count": 9,
     "metadata": {},
     "output_type": "execute_result"
    }
   ],
   "source": [
    "df_mf = df_m.set_index(\"Name\").join(df_f.set_index(\"Name\"), lsuffix='_m', rsuffix='_f').groupby(\"Name\").sum()\n",
    "df_mf[\"% dissimilar\"] = abs(50 - 100*(df_mf[\"Count_f\"]/(df_mf[\"Count_m\"]+df_mf[\"Count_f\"])))\n",
    "df_mf.sort_values(by='% dissimilar').head(5)"
   ]
  },
  {
   "cell_type": "markdown",
   "metadata": {},
   "source": [
    "The most gender ambiguous name in 1945 is Kit. \n",
    "\n",
    "The name \"Frankie\" at 4, is easily the most popular and gender neutral name in 1945."
   ]
  },
  {
   "cell_type": "code",
   "execution_count": 10,
   "metadata": {},
   "outputs": [],
   "source": [
    "del df_m, df_f, df_mf"
   ]
  },
  {
   "cell_type": "markdown",
   "metadata": {},
   "source": [
    "### 4. Of the names represented in the data, find the name that has had the largest percentage increase in popularity since 1980. What was the largest percentage decrease since 1980?\n",
    "\n",
    "The solution provided computes the largest increase (or decrease) in popularity between the time span specified. \n",
    "\n",
    "However, to show the names with the most steady gain/loss of popularity, one would need to restructure the analysis to include intermediate years. Here for each datapoint in the time-series, we would estimate a ratio (compared to the previous year), and the sum of these values would be used to rank the names."
   ]
  },
  {
   "cell_type": "code",
   "execution_count": 11,
   "metadata": {},
   "outputs": [],
   "source": [
    "query = \"\"\"\n",
    "SELECT Name, Year, Count\n",
    "FROM data\n",
    "WHERE Year >= ?\n",
    "\"\"\"\n",
    "df = pd.read_sql_query(query, con=connex, params=(1980,))"
   ]
  },
  {
   "cell_type": "markdown",
   "metadata": {},
   "source": [
    "To calculate the percent change - we group by names, and compute the ratio of the difference of the last vs first entry divided by the first entry for each name to estimate the fraction. "
   ]
  },
  {
   "cell_type": "code",
   "execution_count": 12,
   "metadata": {},
   "outputs": [
    {
     "data": {
      "text/plain": [
       "Name\n",
       "Unknown     2860.0\n",
       "Shimon      2480.0\n",
       "Gitty       2200.0\n",
       "Malka       1950.0\n",
       "Yitzchok    1920.0\n",
       "dtype: float64"
      ]
     },
     "execution_count": 12,
     "metadata": {},
     "output_type": "execute_result"
    }
   ],
   "source": [
    "df_perc_change = df.set_index(\"Year\")\\\n",
    "                      .groupby(\"Name\")\\\n",
    "                      .apply(lambda x: 100*(x.Count.iloc[-1] - x.Count.iloc[0])/x.Count.iloc[0])\\\n",
    "                      .sort_values(ascending=False)\n",
    "df_perc_change.head(5)"
   ]
  },
  {
   "cell_type": "markdown",
   "metadata": {},
   "source": [
    "According to the SSA database, they do not modify entries. So entries such as \"Unknown\" or \"Baby\" are kept as is. The 2860% rise in \"Unknown\" is interesting, but it does not represent a single name. \n",
    "\n",
    "Thus the name \"Shimon\" is name that has risen in popularity the most. Plotting the rise of babies with the name Shimon since 1980."
   ]
  },
  {
   "cell_type": "code",
   "execution_count": 13,
   "metadata": {},
   "outputs": [
    {
     "data": {
      "image/png": "[encoded data removed]",
      "text/plain": [
       "<Figure size 432x288 with 1 Axes>"
      ]
     },
     "metadata": {},
     "output_type": "display_data"
    }
   ],
   "source": [
    "df[df[\"Name\"]==\"Shimon\"].groupby(\"Year\").sum().plot(title='The name \"Shimon\" over the years');"
   ]
  },
  {
   "cell_type": "code",
   "execution_count": 14,
   "metadata": {},
   "outputs": [
    {
     "data": {
      "text/plain": [
       "Name\n",
       "Sarah         -93.902439\n",
       "Jessica       -93.965517\n",
       "Latasha       -94.680851\n",
       "Jennifer      -94.736842\n",
       "Christopher   -95.081967\n",
       "dtype: float64"
      ]
     },
     "execution_count": 14,
     "metadata": {},
     "output_type": "execute_result"
    }
   ],
   "source": [
    "df_perc_change.tail(5)"
   ]
  },
  {
   "cell_type": "markdown",
   "metadata": {},
   "source": [
    "Interestingly four of the five names that have dropped the most in popularity since the start of the 80s are female names. However, the name that corresponded to the largest drop in popularity is Christopher."
   ]
  },
  {
   "cell_type": "code",
   "execution_count": 15,
   "metadata": {},
   "outputs": [
    {
     "data": {
      "image/png": "[encoded data removed]",
      "text/plain": [
       "<Figure size 432x288 with 1 Axes>"
      ]
     },
     "metadata": {},
     "output_type": "display_data"
    }
   ],
   "source": [
    "df[df[\"Name\"]==\"Christopher\"].groupby(\"Year\").sum().plot(title='The name \"Christopher\" over the years');"
   ]
  },
  {
   "cell_type": "code",
   "execution_count": 16,
   "metadata": {},
   "outputs": [],
   "source": [
    "del df, df_perc_change"
   ]
  },
  {
   "cell_type": "markdown",
   "metadata": {},
   "source": [
    "### 5. Can you identify names that may have had an even larger increase or decrease in popularity before 1980?"
   ]
  },
  {
   "cell_type": "markdown",
   "metadata": {},
   "source": [
    "Similar to the previous question, the increase or decrease in popularity is estimated by looking for names that have shown the greatest change between 1910 and 1979."
   ]
  },
  {
   "cell_type": "code",
   "execution_count": null,
   "metadata": {},
   "outputs": [],
   "source": [
    "df = pd.read_sql_query(\"SELECT Name, Year, Count FROM data\", con=connex)\n",
    "df_perc_change = df[df[\"Year\"]<1980].set_index(\"Year\")\\\n",
    "                      .groupby(\"Name\")\\\n",
    "                      .apply(lambda x: 100*(x.Count.iloc[-1] - x.Count.iloc[0])/x.Count.iloc[0])\\\n",
    "                      .sort_values(ascending=False)\n",
    "df_perc_change.head(5)"
   ]
  },
  {
   "cell_type": "markdown",
   "metadata": {},
   "source": [
    "Based on this analysis, it appears that no name showed a larger increase in popularity from 1910-1980, when compared to the rise seen in the name \"Shimon\". \n",
    "\n",
    "Pre-1980, the name that showed the most consistent rise in popularity is Jennifer. Interestingly enough, in our analysis in the previous question we noticed that Jennifer was the name that had the second poorest trend since 1980. The rise and fall of the name Jennifer is captured in the next plot."
   ]
  },
  {
   "cell_type": "code",
   "execution_count": null,
   "metadata": {},
   "outputs": [],
   "source": [
    "fig, (ax1,ax2) = plt.subplots(1,2, sharey=True, figsize=(12,6))\n",
    "fig.subplots_adjust(wspace=0)\n",
    "df[(df[\"Name\"]==\"Jennifer\") & (df[\"Year\"]<1980)].groupby(\"Year\").sum().plot(ax=ax1, title='The name \"Jennifer\" from 1910 - 1979')\n",
    "df[(df[\"Name\"]==\"Jennifer\") & (df[\"Year\"]>=1980)].groupby(\"Year\").sum().plot(ax=ax2, title='The name \"Jennifer\" from 1980 - 2017');"
   ]
  },
  {
   "cell_type": "code",
   "execution_count": null,
   "metadata": {},
   "outputs": [],
   "source": [
    "df_perc_change.tail(5)"
   ]
  },
  {
   "cell_type": "markdown",
   "metadata": {},
   "source": [
    "Lillie is the name that showed the most consistent fall in popularity. This drop in popularity is in fact greater than the drop in popularity of Christopher in the previous analysis."
   ]
  },
  {
   "cell_type": "code",
   "execution_count": null,
   "metadata": {},
   "outputs": [],
   "source": [
    "df[(df[\"Name\"]==\"Lillie\") & (df[\"Year\"]<1980)].groupby(\"Year\").sum().plot(title='The name \"Lillie\" from 1910 - 1979');"
   ]
  },
  {
   "cell_type": "markdown",
   "metadata": {},
   "source": [
    "There are two important points to consider from the figure above,\n",
    "- while the name Lillie showed a larger decrease in popularity compared to Christopher. In absolute terms, even at its most popular, the name Lillie only went to ~3000 babies per year. While the name Christopher is at its lowest currently, but there are still ~10000 babies with that name born in 2017. \n",
    "- it is also interesting to note is that the name Lillie was actually on a rising trend till 1920 before it dropped. So it's actually percentage decrease is better captured by the difference of the max and min counts, rather than the first and last. \n",
    "\n",
    "To examine whether there are names that have had large changes in popularity, we used the ratio of the difference of the max - min by the min count and present the results below (limited the results to names that have turned up at least 30 times over the years)."
   ]
  },
  {
   "cell_type": "code",
   "execution_count": null,
   "metadata": {},
   "outputs": [],
   "source": [
    "df_perc_change_minmax = df[df[\"Year\"]<1980].set_index(\"Year\")\\\n",
    "                      .groupby(\"Name\")\\\n",
    "                      .apply(lambda x: 100*(x.Count.max() - x.Count.min())/x.Count.min() if len(x.Count) > 30 else np.nan)\\\n",
    "                      .dropna()\\\n",
    "                      .sort_values(ascending=False)\n",
    "df_perc_change_minmax.head()"
   ]
  },
  {
   "cell_type": "markdown",
   "metadata": {},
   "source": [
    "There are the names that have shown significantly larger variation over the years. The name Robert has seen a whopping 200300% change in popularity from 1910 to 1980. And as can be seen in the plot below, its popularity peaked in early 1940s and has declined ever since."
   ]
  },
  {
   "cell_type": "code",
   "execution_count": null,
   "metadata": {},
   "outputs": [],
   "source": [
    "fig, (ax1,ax2) = plt.subplots(1,2, sharey=True, figsize=(12,6))\n",
    "fig.subplots_adjust(wspace=0)\n",
    "df[(df[\"Name\"]==\"Robert\") & (df[\"Year\"]<1980)].groupby(\"Year\").sum().plot(ax=ax1, title='The name \"Robert\" from 1910 - 1979')\n",
    "df[(df[\"Name\"]==\"Robert\") & (df[\"Year\"]>=1980)].groupby(\"Year\").sum().plot(ax=ax2, title='The name \"Robert\" from 1980 - 2017');"
   ]
  },
  {
   "cell_type": "markdown",
   "metadata": {},
   "source": [
    "Another surprising inclusion in the list of largest change, is the name \"Mary\". Note that Mary has been the most popular female name in the US over the past 117 years. However, when one plots the trend line for the name it is interesting to note how the popularity has varied over the last 12 decades."
   ]
  },
  {
   "cell_type": "code",
   "execution_count": null,
   "metadata": {},
   "outputs": [],
   "source": [
    "fig, (ax1,ax2) = plt.subplots(1,2, sharey=True, figsize=(12,6))\n",
    "fig.subplots_adjust(wspace=0)\n",
    "df[(df[\"Name\"]==\"Mary\") & (df[\"Year\"]<1980)].groupby(\"Year\").sum().plot(ax=ax1, title='The name \"Mary\" from 1910 - 1979')\n",
    "df[(df[\"Name\"]==\"Mary\") & (df[\"Year\"]>=1980)].groupby(\"Year\").sum().plot(ax=ax2, title='The name \"Mary\" from 1980 - 2017');"
   ]
  },
  {
   "cell_type": "markdown",
   "metadata": {},
   "source": [
    "Mary might be the most popular female name by total numbers, however, the name has seen a dramatic drop in popularity since approximately the 70s and is far from being a popular name for babies today.\n",
    "\n",
    "Based on this plot, we can probably estimate that the average age of a person with the name Mary or Robert in the US is probably 50 - 60 years. To accurately compute the average age, we would need to include the average life expectancy for individuals. "
   ]
  },
  {
   "cell_type": "code",
   "execution_count": null,
   "metadata": {},
   "outputs": [],
   "source": [
    "del df, df_perc_change, df_perc_change_minmax\n",
    "gc.collect();"
   ]
  },
  {
   "cell_type": "markdown",
   "metadata": {},
   "source": [
    "# B) Onwards to insight"
   ]
  },
  {
   "cell_type": "markdown",
   "metadata": {},
   "source": [
    "## Missing names\n",
    "\n",
    "Right at the onset of the analysis it was noted that for protection of the privacy of individuals, names that occurred fewer than 5 times in a state would be excluded. \n",
    "\n",
    "It was noted that this would result in a bias whereby the names of babies born would not reflect the actual numbers of babies in each state. This problem is further exacerbated by the fact that the dataset provided is collatted by state (rather than national), which will have the tendency to increase the likelihood of excluding unique names.\n",
    "\n",
    "It is valuable to understand the limitations of the SSA names dataset, and to place limits on how accurately it represents the populace. To investigate the issue of a bias, the following national birth and birth rate data datasets were included in the analysis: \n",
    "- The first is Infoplease (https://www.infoplease.com/), who describe themselves as an online encyclopedia. The website contains birth and birth rate information from 1910 to 2005. Between 1910 and 1950, the data points are once every 5 years, and from 1950 onwards they are annual. The data are sourced from the United States Department of Health and Human Services.\n",
    "- The second data source is the WONDER Online Database (http://wonder.cdc.gov/natality-current.html ), administered by the United States Department of Health and Human Services (US DHHS), and Centers for Disease Control and Prevention Center for Disease Control. This dataset covers births in the US between 1995 and 2017. "
   ]
  },
  {
   "cell_type": "code",
   "execution_count": null,
   "metadata": {},
   "outputs": [],
   "source": [
    "# Extracting data from the SSA database\n",
    "df = pd.read_sql_query(\"SELECT Name, Year, Count FROM data\", con=connex)"
   ]
  },
  {
   "cell_type": "markdown",
   "metadata": {},
   "source": [
    "To gather the data from the Infoplease website, we will use the Python requests library in combination with the BautifulSoup library. The parsed table, is converted to a Pandas DataFrame. "
   ]
  },
  {
   "cell_type": "code",
   "execution_count": null,
   "metadata": {},
   "outputs": [],
   "source": [
    "import requests\n",
    "from bs4 import BeautifulSoup"
   ]
  },
  {
   "cell_type": "code",
   "execution_count": null,
   "metadata": {},
   "outputs": [],
   "source": [
    "url = \"https://www.infoplease.com/us/births/live-births-and-birth-rates-year\"\n",
    "r = requests.get(url)\n",
    "soup = BeautifulSoup(r.text, \"lxml\")"
   ]
  },
  {
   "cell_type": "code",
   "execution_count": null,
   "metadata": {},
   "outputs": [],
   "source": [
    "table = soup.table\n",
    "rows = []\n",
    "for tr in table:\n",
    "    if tr.sup:\n",
    "        tr.sup.decompose()\n",
    "    td = tr.find_all('td')\n",
    "    rows.append([i.text for i in td])\n",
    "df_infopls = pd.DataFrame(rows[1:], columns=[\"Year\",\"Births\",\"Birth Rate\"])"
   ]
  },
  {
   "cell_type": "code",
   "execution_count": null,
   "metadata": {},
   "outputs": [],
   "source": [
    "df_infopls[\"Year\"] = df_infopls[\"Year\"].astype(\"int\")\n",
    "df_infopls[\"Births\"] = df_infopls[\"Births\"].str.replace(\",\",\"\").astype(\"int\")\n",
    "df_infopls[\"Birth Rate\"] = df_infopls[\"Birth Rate\"].astype(\"float\")"
   ]
  },
  {
   "cell_type": "markdown",
   "metadata": {},
   "source": [
    "Including data taken from the CDC WONDER (Wide-ranging OnLine Data for Epidemiologic Research) data.\n",
    "\n",
    "The procedure to download this data is as follows: \n",
    "- navigate to WONDER website: https://wonder.cdc.gov/natality.html, to download the data from 1995 to 2017 from three separate web forms.\n",
    "- there does not appear to be an API to download the data. So the data was manually downloaded data and reformatted into a CSV file: NationalBirths.csv. \n",
    "    - the CSV file has the information from all three web forms in a single page.\n",
    "    - unfortunately, due to the manual formatting, expanding the analysis to include State information or other relevant pieces of information that are present through WONDER is quite tedious. Future work should either find a way to request data directly, or write a parser to read in the file format of WONDER database exported data. "
   ]
  },
  {
   "cell_type": "code",
   "execution_count": null,
   "metadata": {},
   "outputs": [],
   "source": [
    "cdc_df_1995_2017 = pd.read_csv(\"NationalBirths.csv\", index_col=\"Year\", skipfooter=8, engine=\"python\")\n",
    "cdc_df_1995_2017[\"Total\"] = cdc_df_1995_2017['M_Births'] + cdc_df_1995_2017['F_Births']"
   ]
  },
  {
   "cell_type": "code",
   "execution_count": null,
   "metadata": {},
   "outputs": [],
   "source": [
    "df_all3 = df.groupby(\"Year\").sum()\n",
    "df_all3 = df_all3.join(df_infopls.set_index(\"Year\")).join(cdc_df_1995_2017)"
   ]
  },
  {
   "cell_type": "code",
   "execution_count": null,
   "metadata": {},
   "outputs": [],
   "source": [
    "fig, (ax1, ax2) = plt.subplots(2,1,figsize=(12,10), sharex=True, gridspec_kw={'height_ratios':[2, 1]})\n",
    "fig.subplots_adjust(hspace=0)\n",
    "df_all3.plot(y=\"Count\", ax=ax1, label='SSA Names Count')\n",
    "df_all3[\"Births\"].dropna().plot(ax=ax1, marker=\"*\", label='Infoplease Count')\n",
    "df_all3[\"Total\"].dropna().plot(ax=ax1, marker=\"*\", label='DHHS and CDC Count')\n",
    "ax1.set_ylabel(\"# babies born\", fontsize=15)\n",
    "ax1.legend(fontsize=12)\n",
    "(df_all3[\"Births\"] - df_all3[\"Count\"]).dropna().plot(ax=ax2, marker=\"*\", color='k')\n",
    "(df_all3[\"Total\"] - df_all3[\"Count\"]).dropna().plot(ax=ax2, marker=\"*\", color='k')\n",
    "ax2.set_ylabel(\"Residual\", fontsize=15)\n",
    "ax2.set_xlabel(\"Year\", fontsize=15)\n",
    "ax1.set_title(\"Total births by year in the US\", fontsize=17);"
   ]
  },
  {
   "cell_type": "markdown",
   "metadata": {},
   "source": [
    "Plotted in the top panel of the figure above is the total number of births in the US as recorded by the SSA names database (in blue), and the DHHS (in orange and green). The bottom panel in\n",
    "- The values pre-1959 for the SSA vs DHHS plot are quite discrepant, and this is likely due to the DHHS adjusting the birth numbers for unregistered births, for reasons not clarified.\n",
    "- If we assume that the two databases are fairly in synch post 1960, then the national trend over the past 50 years is that Americans are increasingly choosing more unique names for their children. \n",
    "- This trend appears to be stabilizing over the past ~10 years."
   ]
  },
  {
   "cell_type": "markdown",
   "metadata": {},
   "source": [
    "Next we expand this analysis to examine whether this trend holds for both genders. "
   ]
  },
  {
   "cell_type": "code",
   "execution_count": null,
   "metadata": {},
   "outputs": [],
   "source": [
    "df = pd.read_sql_query(\"SELECT Name, Gender, Year, Count FROM data WHERE Year >= ?\", con=connex, params=(1995,))"
   ]
  },
  {
   "cell_type": "code",
   "execution_count": null,
   "metadata": {},
   "outputs": [],
   "source": [
    "df_group = df.groupby([\"Year\",\"Gender\"]).sum().unstack()"
   ]
  },
  {
   "cell_type": "code",
   "execution_count": null,
   "metadata": {},
   "outputs": [],
   "source": [
    "fig, ((ax1, ax2),(ax3,ax4)) = plt.subplots(2,2,figsize=(15,10), sharex=True, gridspec_kw={'height_ratios':[4, 2]})\n",
    "fig.subplots_adjust(hspace=0.05)\n",
    "\n",
    "df_group[\"Count\",\"F\"].plot(ax=ax1, label='SSA Names Count'); cdc_df_1995_2017[\"F_Births\"].plot(ax=ax1, label='DHHS and CDC Count')\n",
    "df_group[\"Count\",\"M\"].plot(ax=ax2, label='SSA Names Count'); cdc_df_1995_2017[\"M_Births\"].plot(ax=ax2, label='DHHS and CDC Count')\n",
    "ax1.set_ylim(1.2E6,2.5E6); ax2.set_ylim(1.2E6,2.5E6)\n",
    "ax1.legend(); ax2.legend()\n",
    "ax1.set_ylabel(\"# of baby girls\", fontsize=15); ax2.set_ylabel(\"# of baby boys\", fontsize=15)\n",
    "ax1.set_title(\"Girls born in the US\", fontsize=17); ax1.set_title(\"Boys born in the US\", fontsize=17)\n",
    "\n",
    "(cdc_df_1995_2017[\"F_Births\"] - df_group[\"Count\",\"F\"]).plot(ax=ax3, color='k')\n",
    "(cdc_df_1995_2017[\"M_Births\"] - df_group[\"Count\",\"M\"]).plot(ax=ax4, color='k')\n",
    "ax3.set_ylim(2E5,7.5E5); ax4.set_ylim(2E5,7.5E5);\n",
    "ax3.set_ylabel(\"Residual\", fontsize=15); ax4.set_ylabel(\"Residual\", fontsize=15)\n",
    "ax3.set_xlabel(\"Year\", fontsize=15); ax4.set_xlabel(\"Year\", fontsize=15);"
   ]
  },
  {
   "cell_type": "markdown",
   "metadata": {},
   "source": [
    "Plotted above are the birth statistics for girls (left) and boys (right), comparing the actual number of births (orange line) and the registered names with greater than 5 occurrences (blue line). The residuals panel shows the rate of change of the unique names as a function of time. \n",
    "\n",
    "- Both genders show a similar rising trend, that is a rising discrepancy between actual births and names, till ~2006-2008, after which it has stabilized over the past decade. \n",
    "- According to both, the SSA names database and the WONDER database, there are more boys born then girls per year, over the entire duration.\n",
    "- However, the discrepancy between the names and births for the girls is a lot larger than that seen for boys, 1.42x greater to be precise. \n",
    "\n",
    "Taking this thought exercise a little further. If the discrepancy is attributed purely to the fact that at any name with fewer than 5 occurrences in a state would be kept out of the list.  \n",
    "- Then this would suggest that in 2017 there were 486994 female names and 378149 male names excluded. \n",
    "- Or ~17000 names across the 51 regions (50 states + DC). These could be unique names or ones that total to fewer than 4 occurrences per state.\n",
    "- Furthermore, when we compare this to actual births by gender from WONDER (1882615 girls and 1972885 boy in 2017), the discrepancy represents ~25% girl names and 20% boys names missing. \n",
    "\n",
    "It was originally speculated that there \"might\" be a discrepancy between the actual births and the names in SSA database. Clearly, the analysis above has confirmed the existence of a discrepancy. However, to attribute nearly a million baby names missing due to uniqueness of name, seems highly improbable. \n",
    "\n",
    "To look for possible explanation for the discrepancy, let us consider the source for each of the datasets. \n",
    "- The SSA dataset lists the names of babies from Social Security Card Applications (https://catalog.data.gov/dataset/baby-names-from-social-security-card-applications-data-by-state-and-district-of-). \n",
    "- The WONDER dataset has counts and rates of births occurring within the United States to U.S. residents and non-residents. (https://wonder.cdc.gov/wonder/help/Natality.html)\n",
    "\n",
    "Not including names with occurrences less than 5 is definitely a contributor. Here are some of the other plausible causes for missing baby names: \n",
    "- if the rate of parents filing SSA for infants has been dropping with time.\n",
    "- or, if it could be related to the rise of immigrants in the US from Asian countries where systems like Social Security are not as common and thus not immediately perceived as useful. \n",
    "- or, another possible explanation is if there has been a significant increase in undocumented immigrants over the past 20 years (compared to the period from 1960-1980). These children might remain unregistered, though it would require further exploration to understand why they would show up in the DHHS & CDC dataset. \n",
    "\n",
    "The demographics of the top 10 countries sending immigrants to the US is shown in this Wikipedia article:  https://en.wikipedia.org/wiki/Immigration_to_the_United_States#Demographics.\n",
    "\n",
    "Whatever the reason, this discrepancy would appear to significantly bias the SSA names dataset. "
   ]
  },
  {
   "cell_type": "code",
   "execution_count": null,
   "metadata": {},
   "outputs": [],
   "source": [
    "del df, df_all3, df_group, df_infopls"
   ]
  },
  {
   "cell_type": "markdown",
   "metadata": {},
   "source": [
    "## Name variants:\n",
    "\n",
    "The SSA dataset keeps different spellings of the same name as distinct, see point 3 here: https://www.ssa.gov/oact/babynames/background.html. So the following names - Caitlin, Caitlyn, Kaitlin, Kaitlyn, Kaitlynn, Katelyn, and Katelynn would be considered as different names and thus be ranked separately. \n",
    "\n",
    "Depending on the analysis being requested, it might be useful to consider these names as arising from a common root. For example, individually from the names mentioned above, \"Kaitlyn\" is the most popular variant - ranking 421st amongst the most popular names (for either gender). However, the combined statistics for these names would make the name the 104th most popular name of all time. \n",
    "\n",
    "To try to resolved this issue, there is a Python package called Fuzzywuzzy, which calculates the Levenshtein distance between two strings. Examples of this in action are shown below."
   ]
  },
  {
   "cell_type": "code",
   "execution_count": null,
   "metadata": {},
   "outputs": [],
   "source": [
    "from fuzzywuzzy import fuzz"
   ]
  },
  {
   "cell_type": "code",
   "execution_count": null,
   "metadata": {},
   "outputs": [],
   "source": [
    "fuzz.ratio(\"Caitlin\", \"Caitlinn\"), fuzz.partial_ratio(\"Katelyn\", \"Katelynn\")"
   ]
  },
  {
   "cell_type": "code",
   "execution_count": null,
   "metadata": {},
   "outputs": [],
   "source": [
    "fuzz.ratio(\"Caitlin\", \"Katelyn\"), fuzz.partial_ratio(\"Kaitlin\", \"Katelynn\")"
   ]
  },
  {
   "cell_type": "markdown",
   "metadata": {},
   "source": [
    "One method to combine names together is to generate a matrix of comparative values, using the logic above, where we compare all the names against each other. A cut-off value needs to be determined depending on how inclusive or exclusive one wants to be, and then retain that subset of the names to combine the statistics and generate a new names dataset. This new dataset could then be examined in exactly the same manner as earlier.\n",
    "\n",
    "This tool could also be utilized when attempting name/identity matching where there are possibilities of errors in spelling or alternate spellings, etc. "
   ]
  },
  {
   "cell_type": "code",
   "execution_count": null,
   "metadata": {},
   "outputs": [],
   "source": [
    "cur.close()\n",
    "del cur\n",
    "connex.close()"
   ]
  },
  {
   "cell_type": "code",
   "execution_count": null,
   "metadata": {},
   "outputs": [],
   "source": []
  }
 ],
 "metadata": {
  "kernelspec": {
   "display_name": "Python 3",
   "language": "python",
   "name": "python3"
  },
  "language_info": {
   "codemirror_mode": {
    "name": "ipython",
    "version": 3
   },
   "file_extension": ".py",
   "mimetype": "text/x-python",
   "name": "python",
   "nbconvert_exporter": "python",
   "pygments_lexer": "ipython3",
   "version": "3.6.5"
  }
 },
 "nbformat": 4,
 "nbformat_minor": 2
}
